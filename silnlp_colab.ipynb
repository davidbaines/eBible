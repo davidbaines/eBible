{
  "nbformat": 4,
  "nbformat_minor": 0,
  "metadata": {
    "colab": {
      "provenance": [],
      "machine_shape": "hm",
      "gpuType": "V100",
      "include_colab_link": true
    },
    "kernelspec": {
      "display_name": "Python 3",
      "name": "python3"
    },
    "accelerator": "GPU"
  },
  "cells": [
    {
      "cell_type": "markdown",
      "metadata": {
        "id": "view-in-github",
        "colab_type": "text"
      },
      "source": [
        "<a href=\"https://colab.research.google.com/github/davidbaines/eBible/blob/main/silnlp_colab.ipynb\" target=\"_parent\"><img src=\"https://colab.research.google.com/assets/colab-badge.svg\" alt=\"Open In Colab\"/></a>"
      ]
    },
    {
      "cell_type": "code",
      "metadata": {
        "id": "_8dvXZnMNniY"
      },
      "source": [
        "from google.colab import drive\n",
        "drive.mount('/content/drive')"
      ],
      "execution_count": null,
      "outputs": []
    },
    {
      "cell_type": "code",
      "metadata": {
        "id": "t1xxLS6hsM5U"
      },
      "source": [
        "# Confirm GPU availability\n",
        "!nvidia-smi"
      ],
      "execution_count": null,
      "outputs": []
    },
    {
      "cell_type": "code",
      "metadata": {
        "id": "nOAaBNHhseqc"
      },
      "source": [
        "# Clone the repo\n",
        "!git clone https://github.com/sillsdev/silnlp\n",
        "# Install machine.py\n",
        "!pip install sil-machine\n",
        "\n",
        "import os\n",
        "# Tell the SIL NLP tools where to find the Gutenberg resources\n",
        "os.environ['SIL_NLP_DATA_PATH'] = \"/content/drive/Shareddrives/Gutenberg\"\n",
        "\n",
        "# Tell Python where to find our repo\n",
        "os.environ['PYTHONPATH'] = \"/env/python:/content/silnlp\"\n",
        "\n",
        "# Install the required version of poetry. (Version 1.2. required by ClearML, so\n",
        "# It may not be essential in Colab)\n",
        "\n",
        "#!curl -sSL https://install.python-poetry.org | python - --version 1.2.2\n",
        "#!curl -sSL https://install.python-poetry.org | python - --uninstall\n",
        "!pip install poetry==1.2.2"
      ],
      "execution_count": null,
      "outputs": []
    },
    {
      "cell_type": "code",
      "source": [
        "%cd /content/silnlp\n",
        "!ls"
      ],
      "metadata": {
        "id": "RX9mv_B2kN9P"
      },
      "execution_count": null,
      "outputs": []
    },
    {
      "cell_type": "code",
      "source": [
        "!poetry --version"
      ],
      "metadata": {
        "id": "9Ey7tN6rjQPl"
      },
      "execution_count": null,
      "outputs": []
    },
    {
      "cell_type": "code",
      "source": [
        "!poetry install"
      ],
      "metadata": {
        "id": "KCtcMjeZlhd0"
      },
      "execution_count": null,
      "outputs": []
    },
    {
      "cell_type": "code",
      "metadata": {
        "id": "fqXFxBqKsR1U"
      },
      "source": [
        "# Set some GPU options\n",
        "WORLD_SIZE = \"1\"\n",
        "GPU_RANKS = \"0\"\n",
        "\n",
        "# For a multi-GPU environment, specify which GPU's should be used for CUDA (not really necessary)\n",
        "!export CUDA_VISIBLE_DEVICES=0"
      ],
      "execution_count": null,
      "outputs": []
    },
    {
      "cell_type": "code",
      "metadata": {
        "id": "v6Uo4aivVfai"
      },
      "source": [
        "!poetry run python -m silnlp.common.extract_corpora --help"
      ],
      "execution_count": null,
      "outputs": []
    },
    {
      "cell_type": "code",
      "metadata": {
        "id": "9wyeW4FzZJ2j"
      },
      "source": [
        "# !poetry run python -m silnlp.common.extract_corpora AMIU_2023_06_15 AMIBT_2023_06_15"
      ],
      "execution_count": null,
      "outputs": []
    },
    {
      "cell_type": "code",
      "metadata": {
        "id": "DMhJCgaksKHS"
      },
      "source": [
        "!poetry run python -m silnlp.nmt.experiment --save-checkpoints --mixed-precision --memory-growth FT-AytaMagIndi/NLLB6_tgl-blx_1_colab\n"
      ],
      "execution_count": null,
      "outputs": []
    },
    {
      "cell_type": "code",
      "source": [
        "!poetry run python -m silnlp.nmt.test FT-AytaMagIndi/NLLB6_tgl-blx_1_colab --memory-growth --last"
      ],
      "metadata": {
        "id": "eZoR0GcS7prx"
      },
      "execution_count": null,
      "outputs": []
    },
    {
      "cell_type": "code",
      "metadata": {
        "id": "TtJdkc8bx7S9"
      },
      "source": [
        "!poetry run python -m silnlp.nmt.translate FT-AytaMagIndi/NLLB6_tgl-blx_1_colab --src-project TCB --trg-iso blx --books EXO JON\n"
      ],
      "execution_count": null,
      "outputs": []
    }
  ]
}